{
 "cells": [
  {
   "cell_type": "code",
   "execution_count": 1,
   "id": "0ed1361c",
   "metadata": {},
   "outputs": [],
   "source": [
    "import pickle\n",
    "import torch\n",
    "import torch.nn as nn\n",
    "import numpy as np\n",
    "import pandas as pd\n",
    "import matplotlib.pyplot as plt\n",
    "from mpl_toolkits import mplot3d\n",
    "from tqdm import tqdm\n",
    "import random\n",
    "import torch.optim as optim\n",
    "from sklearn.model_selection import train_test_split\n",
    "from torch.utils.data import TensorDataset, DataLoader\n",
    "from sklearn.preprocessing import StandardScaler\n",
    "from sklearn.metrics import r2_score\n",
    "from scipy.stats import pearsonr\n",
    "from scipy.stats import spearmanr\n",
    "from scipy.stats import kendalltau"
   ]
  },
  {
   "cell_type": "code",
   "execution_count": 2,
   "id": "d5dd4ee5",
   "metadata": {},
   "outputs": [
    {
     "data": {
      "text/plain": [
       "'cuda'"
      ]
     },
     "execution_count": 2,
     "metadata": {},
     "output_type": "execute_result"
    }
   ],
   "source": [
    "device = 'cuda' if torch.cuda.is_available() else 'cpu'\n",
    "device"
   ]
  },
  {
   "cell_type": "code",
   "execution_count": 3,
   "id": "ad1f9111",
   "metadata": {},
   "outputs": [],
   "source": [
    "# with open('X_uniform-Copy1.pkl','rb') as file:\n",
    "#     x = pickle.load(file)\n",
    "# with open('Y_uniform-Copy1.pkl','rb') as file:\n",
    "#     y = pickle.load(file)\n",
    "with open('zie_uniform-Copy1.pkl','rb') as file:\n",
    "    zie = pickle.load(file)"
   ]
  },
  {
   "cell_type": "code",
   "execution_count": 23,
   "id": "e61eb48e",
   "metadata": {
    "scrolled": true
   },
   "outputs": [
    {
     "data": {
      "text/plain": [
       "(tensor([[ 1.7103,  1.7103,  1.7103,  ..., -6.8445, -6.8445, -6.8445],\n",
       "         [ 8.5300,  8.5300,  8.5300,  ..., -6.3845, -6.3845, -6.3845],\n",
       "         [-6.0266, -6.0266, -6.0266,  ..., -7.0155, -7.0155, -7.0155],\n",
       "         ...,\n",
       "         [ 6.9653,  6.9653,  6.9653,  ...,  5.1985,  5.1985,  5.1985],\n",
       "         [-8.4326, -8.4326, -8.4326,  ...,  8.8994,  8.8994,  8.8994],\n",
       "         [-3.3060, -3.3060, -3.3060,  ..., -8.7325, -8.7325, -8.7325]]),\n",
       " torch.Size([2500, 40000]))"
      ]
     },
     "execution_count": 23,
     "metadata": {},
     "output_type": "execute_result"
    }
   ],
   "source": [
    "# x,x.shape"
   ]
  },
  {
   "cell_type": "code",
   "execution_count": 7,
   "id": "1c69139d",
   "metadata": {},
   "outputs": [
    {
     "data": {
      "text/plain": [
       "tensor([ 1.7103,  8.5300, -6.0266,  ...,  6.9653, -8.4326, -3.3060])"
      ]
     },
     "execution_count": 7,
     "metadata": {},
     "output_type": "execute_result"
    }
   ],
   "source": [
    "# x[:,0]"
   ]
  },
  {
   "cell_type": "code",
   "execution_count": 4,
   "id": "4f8e5f9a",
   "metadata": {},
   "outputs": [
    {
     "data": {
      "text/plain": [
       "(40000, 1)"
      ]
     },
     "execution_count": 4,
     "metadata": {},
     "output_type": "execute_result"
    }
   ],
   "source": [
    "zie.shape"
   ]
  },
  {
   "cell_type": "code",
   "execution_count": 57,
   "id": "ab81bb76",
   "metadata": {},
   "outputs": [],
   "source": [
    "'''\n",
    "Function to count number of atoms in  a grid with number of grids as the parameter.\n",
    "\n",
    "def count_atoms_in_grid(x, y, num_grids):\n",
    "    # Calculate the grid size\n",
    "    grid_size = 20 / num_grids\n",
    "\n",
    "    # Create an empty grid to store the atom counts\n",
    "    atom_counts = torch.zeros(num_grids, num_grids)\n",
    "\n",
    "    # Iterate through each atom coordinate\n",
    "    for i in range(x.shape[0]):\n",
    "        # Calculate the grid indices for the atom\n",
    "        grid_x = int((x[i] + 10) // grid_size)\n",
    "        grid_y = int((y[i] + 10) // grid_size)\n",
    "\n",
    "        # Increment the atom count in the corresponding grid\n",
    "        atom_counts[grid_x, grid_y] += 1\n",
    "\n",
    "    return atom_counts\n",
    "'''"
   ]
  },
  {
   "cell_type": "code",
   "execution_count": 61,
   "id": "4951989b",
   "metadata": {},
   "outputs": [],
   "source": [
    "# x = x.numpy()\n",
    "# y = y.numpy()"
   ]
  },
  {
   "cell_type": "code",
   "execution_count": 107,
   "id": "cf4fca9e",
   "metadata": {},
   "outputs": [
    {
     "name": "stderr",
     "output_type": "stream",
     "text": [
      "100%|██████████████████████████████████████████████████████████████████████████████████████████████████████████████████| 40000/40000 [47:28<00:00, 14.04it/s]\n"
     ]
    }
   ],
   "source": [
    "# inp = []\n",
    "# for i in tqdm(range(40000)):\n",
    "#     atom_count = count_atoms_in_grid(x[:,i],y[:,i],20)\n",
    "#     atom_count = atom_count.numpy()\n",
    "#     inp.append(atom_count)\n"
   ]
  },
  {
   "cell_type": "code",
   "execution_count": 108,
   "id": "ade19d97",
   "metadata": {},
   "outputs": [],
   "source": [
    "# inp = np.array(inp)"
   ]
  },
  {
   "cell_type": "code",
   "execution_count": 110,
   "id": "90a97894",
   "metadata": {},
   "outputs": [],
   "source": [
    "# with open('inp25.pkl', 'wb') as file:\n",
    "#     pickle.dump(inp,file) "
   ]
  },
  {
   "cell_type": "code",
   "execution_count": 5,
   "id": "3d2f7829",
   "metadata": {},
   "outputs": [],
   "source": [
    "with open('inp20.pkl','rb') as file:\n",
    "    inp = pickle.load(file)"
   ]
  },
  {
   "cell_type": "code",
   "execution_count": 6,
   "id": "4bee112f",
   "metadata": {},
   "outputs": [
    {
     "data": {
      "text/plain": [
       "(40000, 20, 20)"
      ]
     },
     "execution_count": 6,
     "metadata": {},
     "output_type": "execute_result"
    }
   ],
   "source": [
    "inp.shape"
   ]
  },
  {
   "cell_type": "code",
   "execution_count": 7,
   "id": "446d1809",
   "metadata": {},
   "outputs": [],
   "source": [
    "inp = inp.reshape(40000,1,inp.shape[1],inp.shape[1])"
   ]
  },
  {
   "cell_type": "code",
   "execution_count": 8,
   "id": "068d0d27",
   "metadata": {},
   "outputs": [],
   "source": [
    "inp_train, inp_val, z_train, z_val = train_test_split(inp, zie, test_size=0.2, random_state=69)\n",
    "inp_train, inp_test, z_train, z_test = train_test_split(inp_train, z_train, test_size=0.2, random_state=69)"
   ]
  },
  {
   "cell_type": "code",
   "execution_count": 9,
   "id": "a2f87bc8",
   "metadata": {},
   "outputs": [
    {
     "data": {
      "text/plain": [
       "((25600, 1, 20, 20), (8000, 1, 20, 20), (6400, 1, 20, 20))"
      ]
     },
     "execution_count": 9,
     "metadata": {},
     "output_type": "execute_result"
    }
   ],
   "source": [
    "inp_train.shape, inp_val.shape, inp_test.shape"
   ]
  },
  {
   "cell_type": "code",
   "execution_count": 10,
   "id": "15ed57ad",
   "metadata": {},
   "outputs": [
    {
     "data": {
      "text/plain": [
       "((25600, 1), (8000, 1), (6400, 1))"
      ]
     },
     "execution_count": 10,
     "metadata": {},
     "output_type": "execute_result"
    }
   ],
   "source": [
    "z_train.shape, z_val.shape, z_test.shape"
   ]
  },
  {
   "cell_type": "code",
   "execution_count": 11,
   "id": "73d4a5ba",
   "metadata": {},
   "outputs": [],
   "source": [
    "learning_rate = 0.0001\n",
    "batch_size = 32"
   ]
  },
  {
   "cell_type": "code",
   "execution_count": 12,
   "id": "11c12010",
   "metadata": {},
   "outputs": [],
   "source": [
    "def getDataLoader(x,y):\n",
    "    tensor_inp = torch.Tensor(x)\n",
    "    tensor_z = torch.Tensor(y)\n",
    "    dataset = TensorDataset(tensor_inp,tensor_z)\n",
    "    return DataLoader(dataset, batch_size)"
   ]
  },
  {
   "cell_type": "code",
   "execution_count": 13,
   "id": "0e7e0393",
   "metadata": {},
   "outputs": [],
   "source": [
    "def train(\n",
    "    model,\n",
    "    dataset,\n",
    "    optimizer,\n",
    "    loss,\n",
    "    length_of_set,\n",
    "    is_dev=False\n",
    "):\n",
    "    total_loss = 0\n",
    "    y_pred, y_actual = [], []\n",
    "    model.train()\n",
    "    for x,y in tqdm(dataset):\n",
    "        \n",
    "        if not is_dev: optimizer.zero_grad()\n",
    "\n",
    "        x = x.to(device)\n",
    "        y = y.to(device)\n",
    "        pred = model(x)\n",
    "        curr_loss = loss(pred, y)\n",
    "#         loss_batch = 0\n",
    "#         loss_batch += curr_loss.item()\n",
    "#         loss_batch = loss_batch*len(y)\n",
    "        total_loss += curr_loss.item()*len(y)/(length_of_set)\n",
    "\n",
    "        if not is_dev:\n",
    "            curr_loss.backward()\n",
    "            optimizer.step()\n",
    "\n",
    "#         y_pred += pred\n",
    "#         y_actual += y\n",
    "        \n",
    "        y_pred += pred.flatten().tolist()\n",
    "        y_actual += y.flatten().tolist()\n",
    "        \n",
    "    return total_loss"
   ]
  },
  {
   "cell_type": "code",
   "execution_count": 14,
   "id": "375c60ae",
   "metadata": {},
   "outputs": [],
   "source": [
    "train_dataloader = getDataLoader(inp_train, z_train)\n",
    "val_dataloader = getDataLoader(inp_val, z_val)\n",
    "test_dataloader = getDataLoader(inp_test, z_test)"
   ]
  },
  {
   "cell_type": "code",
   "execution_count": 52,
   "id": "0aecf45a",
   "metadata": {},
   "outputs": [],
   "source": [
    "class CNNModel(nn.Module):\n",
    "    def __init__(self):\n",
    "        super(CNNModel, self).__init__()\n",
    "        self.conv1 = nn.Conv2d(in_channels=1, out_channels=32, kernel_size=3, stride=1, padding=1)\n",
    "        self.relu1 = nn.ReLU()\n",
    "#         self.maxpool1 = nn.MaxPool2d(kernel_size=2, stride=2)\n",
    "#         self.conv2 = nn.Conv2d(in_channels=32, out_channels=64, kernel_size=3, stride=1, padding=1)\n",
    "#         self.relu2 = nn.ReLU()\n",
    "#         self.maxpool2 = nn.MaxPool2d(kernel_size=2, stride=2)\n",
    "#         self.conv3 = nn.Conv2d(in_channels=64, out_channels=128, kernel_size=3, stride=1, padding=1)\n",
    "#         self.relu3 = nn.ReLU()\n",
    "        self.fc1 = nn.Linear(32 * 20 * 20, 1280)\n",
    "        self.fc2 = nn.Linear(1280, 128)\n",
    "        self.fc3 = nn.Linear(128, 1)\n",
    "\n",
    "    def forward(self, x):\n",
    "        x = self.conv1(x)\n",
    "        x = self.relu1(x)\n",
    "#         x = self.maxpool1(x)\n",
    "#         x = self.conv2(x)\n",
    "#         x = self.relu2(x)\n",
    "#         x = self.maxpool2(x)\n",
    "#         x = self.conv3(x)\n",
    "#         x = self.relu3(x)\n",
    "        x = x.view(x.size(0), -1)\n",
    "        x = self.fc1(x)\n",
    "        x = self.fc2(x)\n",
    "        x = self.fc3(x)\n",
    "        return x"
   ]
  },
  {
   "cell_type": "code",
   "execution_count": 53,
   "id": "003c65cb",
   "metadata": {},
   "outputs": [
    {
     "name": "stdout",
     "output_type": "stream",
     "text": [
      "CNNModel(\n",
      "  (conv1): Conv2d(1, 32, kernel_size=(3, 3), stride=(1, 1), padding=(1, 1))\n",
      "  (relu1): ReLU()\n",
      "  (fc1): Linear(in_features=12800, out_features=1280, bias=True)\n",
      "  (fc2): Linear(in_features=1280, out_features=128, bias=True)\n",
      "  (fc3): Linear(in_features=128, out_features=1, bias=True)\n",
      ")\n"
     ]
    }
   ],
   "source": [
    "model = CNNModel().to(device)\n",
    "print(model)\n",
    "loss = nn.MSELoss().to(device)\n",
    "optimizer = optim.Adam(model.parameters(), lr=learning_rate)\n",
    "scheduler = optim.lr_scheduler.LambdaLR(optimizer, lambda epoch: 0.5 ** epoch)"
   ]
  },
  {
   "cell_type": "code",
   "execution_count": 54,
   "id": "aea0b719",
   "metadata": {
    "scrolled": true
   },
   "outputs": [
    {
     "name": "stderr",
     "output_type": "stream",
     "text": [
      "100%|█████████████████████████████████████████████████████████████████████████████████████████████████████████████████████| 800/800 [00:07<00:00, 101.47it/s]\n",
      "100%|█████████████████████████████████████████████████████████████████████████████████████████████████████████████████████| 250/250 [00:00<00:00, 490.12it/s]\n"
     ]
    },
    {
     "name": "stdout",
     "output_type": "stream",
     "text": [
      "Epoch: 1/10 train loss: 1.8890344615423247 val_loss: 0.0020721534155309193\n"
     ]
    },
    {
     "name": "stderr",
     "output_type": "stream",
     "text": [
      "100%|█████████████████████████████████████████████████████████████████████████████████████████████████████████████████████| 800/800 [00:07<00:00, 101.37it/s]\n",
      "100%|█████████████████████████████████████████████████████████████████████████████████████████████████████████████████████| 250/250 [00:00<00:00, 506.72it/s]\n"
     ]
    },
    {
     "name": "stdout",
     "output_type": "stream",
     "text": [
      "Epoch: 2/10 train loss: 0.0017948140390217301 val_loss: 0.001597289932193234\n"
     ]
    },
    {
     "name": "stderr",
     "output_type": "stream",
     "text": [
      "100%|█████████████████████████████████████████████████████████████████████████████████████████████████████████████████████| 800/800 [00:07<00:00, 100.66it/s]\n",
      "100%|█████████████████████████████████████████████████████████████████████████████████████████████████████████████████████| 250/250 [00:00<00:00, 497.01it/s]\n"
     ]
    },
    {
     "name": "stdout",
     "output_type": "stream",
     "text": [
      "Epoch: 3/10 train loss: 0.0015369626795290977 val_loss: 0.0014742843687999996\n"
     ]
    },
    {
     "name": "stderr",
     "output_type": "stream",
     "text": [
      "100%|█████████████████████████████████████████████████████████████████████████████████████████████████████████████████████| 800/800 [00:07<00:00, 100.29it/s]\n",
      "100%|█████████████████████████████████████████████████████████████████████████████████████████████████████████████████████| 250/250 [00:00<00:00, 464.90it/s]\n"
     ]
    },
    {
     "name": "stdout",
     "output_type": "stream",
     "text": [
      "Epoch: 4/10 train loss: 0.0014355440431972964 val_loss: 0.0013576846565119926\n"
     ]
    },
    {
     "name": "stderr",
     "output_type": "stream",
     "text": [
      "100%|██████████████████████████████████████████████████████████████████████████████████████████████████████████████████████| 800/800 [00:08<00:00, 98.88it/s]\n",
      "100%|█████████████████████████████████████████████████████████████████████████████████████████████████████████████████████| 250/250 [00:00<00:00, 486.47it/s]\n"
     ]
    },
    {
     "name": "stdout",
     "output_type": "stream",
     "text": [
      "Epoch: 5/10 train loss: 0.0013772900622643662 val_loss: 0.001313707936089486\n"
     ]
    },
    {
     "name": "stderr",
     "output_type": "stream",
     "text": [
      "100%|██████████████████████████████████████████████████████████████████████████████████████████████████████████████████████| 800/800 [00:08<00:00, 98.80it/s]\n",
      "100%|█████████████████████████████████████████████████████████████████████████████████████████████████████████████████████| 250/250 [00:00<00:00, 477.66it/s]\n"
     ]
    },
    {
     "name": "stdout",
     "output_type": "stream",
     "text": [
      "Epoch: 6/10 train loss: 0.0013423967573180564 val_loss: 0.001332229440566152\n"
     ]
    },
    {
     "name": "stderr",
     "output_type": "stream",
     "text": [
      "100%|█████████████████████████████████████████████████████████████████████████████████████████████████████████████████████| 800/800 [00:07<00:00, 100.91it/s]\n",
      "100%|█████████████████████████████████████████████████████████████████████████████████████████████████████████████████████| 250/250 [00:00<00:00, 500.39it/s]\n"
     ]
    },
    {
     "name": "stdout",
     "output_type": "stream",
     "text": [
      "Epoch: 7/10 train loss: 0.0013158535250477152 val_loss: 0.0012809940874576563\n"
     ]
    },
    {
     "name": "stderr",
     "output_type": "stream",
     "text": [
      "100%|█████████████████████████████████████████████████████████████████████████████████████████████████████████████████████| 800/800 [00:07<00:00, 100.21it/s]\n",
      "100%|█████████████████████████████████████████████████████████████████████████████████████████████████████████████████████| 250/250 [00:00<00:00, 485.05it/s]\n"
     ]
    },
    {
     "name": "stdout",
     "output_type": "stream",
     "text": [
      "Epoch: 8/10 train loss: 0.0012954097769397768 val_loss: 0.0012620871190447366\n"
     ]
    },
    {
     "name": "stderr",
     "output_type": "stream",
     "text": [
      "100%|█████████████████████████████████████████████████████████████████████████████████████████████████████████████████████| 800/800 [00:07<00:00, 100.80it/s]\n",
      "100%|█████████████████████████████████████████████████████████████████████████████████████████████████████████████████████| 250/250 [00:00<00:00, 498.89it/s]\n"
     ]
    },
    {
     "name": "stdout",
     "output_type": "stream",
     "text": [
      "Epoch: 9/10 train loss: 0.0012818090404471162 val_loss: 0.0012590063971001653\n"
     ]
    },
    {
     "name": "stderr",
     "output_type": "stream",
     "text": [
      "100%|█████████████████████████████████████████████████████████████████████████████████████████████████████████████████████| 800/800 [00:07<00:00, 100.05it/s]\n",
      "100%|█████████████████████████████████████████████████████████████████████████████████████████████████████████████████████| 250/250 [00:00<00:00, 483.95it/s]"
     ]
    },
    {
     "name": "stdout",
     "output_type": "stream",
     "text": [
      "Epoch: 10/10 train loss: 0.0012724236313806621 val_loss: 0.0012567376818042246\n"
     ]
    },
    {
     "name": "stderr",
     "output_type": "stream",
     "text": [
      "\n"
     ]
    }
   ],
   "source": [
    "# file = open(\"uniform1.txt\", \"a\")\n",
    "# file.write('\\n')\n",
    "num_epochs = 10\n",
    "losses = []\n",
    "# file.write(f\"Batch Size: {batch_size}, Learning Rate: {learning_rate} \\n\")\n",
    "for epoch in range(num_epochs):\n",
    "    train_loss = train(model, train_dataloader, optimizer, loss, inp_train.shape[0])\n",
    "    val_loss = train(model, val_dataloader, optimizer, loss, inp_val.shape[0], True)\n",
    "    print(f'Epoch: {epoch+1}/{num_epochs} train loss: {train_loss} val_loss: {val_loss}')\n",
    "#     file.write(f'Epoch: {epoch+1}/{num_epochs} train loss: {train_loss} val_loss: {val_loss} \\n')\n",
    "    losses.append(val_loss)\n",
    "    scheduler.step()\n",
    "# file.close()"
   ]
  },
  {
   "cell_type": "code",
   "execution_count": 55,
   "id": "17f9f2d2",
   "metadata": {},
   "outputs": [
    {
     "data": {
      "text/plain": [
       "Text(0, 0.5, 'MSE Loss')"
      ]
     },
     "execution_count": 55,
     "metadata": {},
     "output_type": "execute_result"
    },
    {
     "data": {
      "image/png": "[encoded data removed]",
      "text/plain": [
       "<Figure size 640x480 with 1 Axes>"
      ]
     },
     "metadata": {},
     "output_type": "display_data"
    }
   ],
   "source": [
    "plt.plot(losses, marker='o')\n",
    "plt.title(f\"Validation set MSE Loss, Batch: {batch_size}, lr: {learning_rate}\")\n",
    "plt.xlabel('Epochs')\n",
    "plt.ylabel('MSE Loss')"
   ]
  },
  {
   "cell_type": "code",
   "execution_count": 56,
   "id": "a4dbe283",
   "metadata": {},
   "outputs": [
    {
     "name": "stderr",
     "output_type": "stream",
     "text": [
      "100%|█████████████████████████████████████████████████████████████████████████████████████████████████████████████████████| 200/200 [00:00<00:00, 482.39it/s]"
     ]
    },
    {
     "name": "stdout",
     "output_type": "stream",
     "text": [
      "test loss: 0.0012490261587663556\n"
     ]
    },
    {
     "name": "stderr",
     "output_type": "stream",
     "text": [
      "\n"
     ]
    }
   ],
   "source": [
    "test_loss = train(model, test_dataloader, optimizer, loss, inp_test.shape[0], True)\n",
    "print('test loss:',test_loss)"
   ]
  },
  {
   "cell_type": "code",
   "execution_count": 57,
   "id": "46d9a07b",
   "metadata": {},
   "outputs": [
    {
     "name": "stdout",
     "output_type": "stream",
     "text": [
      "tensor([0.7802], device='cuda:0', grad_fn=<SelectBackward0>) tensor([0.7603])\n",
      "tensor([0.6641], device='cuda:0', grad_fn=<SelectBackward0>) tensor([0.6802])\n",
      "tensor([0.0576], device='cuda:0', grad_fn=<SelectBackward0>) tensor([0.0074])\n",
      "tensor([0.0578], device='cuda:0', grad_fn=<SelectBackward0>) tensor([0.0178])\n",
      "tensor([0.6442], device='cuda:0', grad_fn=<SelectBackward0>) tensor([0.6747])\n",
      "tensor([0.5598], device='cuda:0', grad_fn=<SelectBackward0>) tensor([0.5848])\n",
      "tensor([0.1470], device='cuda:0', grad_fn=<SelectBackward0>) tensor([0.1320])\n",
      "tensor([0.3483], device='cuda:0', grad_fn=<SelectBackward0>) tensor([0.3415])\n",
      "tensor([0.2891], device='cuda:0', grad_fn=<SelectBackward0>) tensor([0.3332])\n",
      "tensor([0.2807], device='cuda:0', grad_fn=<SelectBackward0>) tensor([0.3157])\n",
      "tensor([0.1357], device='cuda:0', grad_fn=<SelectBackward0>) tensor([0.1054])\n",
      "tensor([0.1251], device='cuda:0', grad_fn=<SelectBackward0>) tensor([0.0851])\n",
      "tensor([0.0803], device='cuda:0', grad_fn=<SelectBackward0>) tensor([0.0304])\n",
      "tensor([0.3073], device='cuda:0', grad_fn=<SelectBackward0>) tensor([0.3642])\n",
      "tensor([0.1554], device='cuda:0', grad_fn=<SelectBackward0>) tensor([0.1298])\n",
      "tensor([0.3187], device='cuda:0', grad_fn=<SelectBackward0>) tensor([0.3058])\n",
      "tensor([0.2170], device='cuda:0', grad_fn=<SelectBackward0>) tensor([0.2262])\n",
      "tensor([0.2883], device='cuda:0', grad_fn=<SelectBackward0>) tensor([0.3606])\n",
      "tensor([0.0824], device='cuda:0', grad_fn=<SelectBackward0>) tensor([0.0158])\n",
      "tensor([0.1152], device='cuda:0', grad_fn=<SelectBackward0>) tensor([0.0828])\n",
      "tensor([0.6141], device='cuda:0', grad_fn=<SelectBackward0>) tensor([0.5863])\n",
      "tensor([0.7941], device='cuda:0', grad_fn=<SelectBackward0>) tensor([0.7902])\n",
      "tensor([0.1661], device='cuda:0', grad_fn=<SelectBackward0>) tensor([0.0705])\n",
      "tensor([0.5511], device='cuda:0', grad_fn=<SelectBackward0>) tensor([0.5469])\n",
      "tensor([0.0884], device='cuda:0', grad_fn=<SelectBackward0>) tensor([0.1229])\n",
      "tensor([0.4108], device='cuda:0', grad_fn=<SelectBackward0>) tensor([0.4025])\n",
      "tensor([0.5726], device='cuda:0', grad_fn=<SelectBackward0>) tensor([0.5439])\n",
      "tensor([0.2134], device='cuda:0', grad_fn=<SelectBackward0>) tensor([0.2017])\n",
      "tensor([0.1230], device='cuda:0', grad_fn=<SelectBackward0>) tensor([0.0959])\n",
      "tensor([0.3337], device='cuda:0', grad_fn=<SelectBackward0>) tensor([0.2966])\n",
      "tensor([0.3727], device='cuda:0', grad_fn=<SelectBackward0>) tensor([0.3555])\n",
      "tensor([0.2649], device='cuda:0', grad_fn=<SelectBackward0>) tensor([0.3295])\n"
     ]
    }
   ],
   "source": [
    "for inpu, zie in test_dataloader:\n",
    "    outputs = model(inpu.to(device))\n",
    "    for i in range(32):\n",
    "        print(outputs[i],zie[i])\n",
    "    break"
   ]
  },
  {
   "cell_type": "code",
   "execution_count": 58,
   "id": "947fd10f",
   "metadata": {},
   "outputs": [],
   "source": [
    "out = []\n",
    "for inpu, zie in test_dataloader:\n",
    "    outputs = model(inpu.to(device))\n",
    "    outputs = outputs.cpu().detach()\n",
    "    outputs = outputs.numpy()\n",
    "    out.extend(outputs)"
   ]
  },
  {
   "cell_type": "code",
   "execution_count": 59,
   "id": "5dd96a51",
   "metadata": {},
   "outputs": [
    {
     "name": "stdout",
     "output_type": "stream",
     "text": [
      "Spearman rank correlation coefficient: 0.9890277803723956\n",
      "ps-value: 0.0\n",
      "Kendall rank correlation coefficient: 0.9082842662861507\n",
      "pk-value: 0.0\n",
      "R2_sqaure: 0.9764700941266492\n"
     ]
    },
    {
     "data": {
      "image/png": "[encoded data removed]",
      "text/plain": [
       "<Figure size 640x480 with 1 Axes>"
      ]
     },
     "metadata": {},
     "output_type": "display_data"
    }
   ],
   "source": [
    "plt.scatter(z_test,out)\n",
    "plt.xlim([0,1])\n",
    "plt.ylim([0,1])\n",
    "plt.title(f\"Actual vs Predicted, Batch: {batch_size}, lr: {learning_rate}\")\n",
    "plt.xlabel('Actual')\n",
    "plt.ylabel('Predicted')\n",
    "\n",
    "p1 = max(max(out), max(z_test))\n",
    "p2 = min(min(out), min(z_test))\n",
    "plt.plot([p1, p2], [p1, p2], 'r-')\n",
    "# plt.ylim((0.2,0.8))\n",
    "R_sqaure = r2_score(z_test,out)\n",
    "# with warnings.catch_warnings():\n",
    "#     warnings.filterwarnings(\"ignore\", message=\".*Nearly constant input.*\")\n",
    "#     p_corr, p_val = pearsonr(z_test, out)\n",
    "# print(p_corr)\n",
    "# print(p_val)\n",
    "\n",
    "s_corr, ps_value = spearmanr(z_test, out)\n",
    "\n",
    "print(\"Spearman rank correlation coefficient:\", s_corr)\n",
    "print(\"ps-value:\", ps_value)\n",
    "\n",
    "k_corr, pk_value = kendalltau(z_test, out)\n",
    "\n",
    "print(\"Kendall rank correlation coefficient:\", k_corr)\n",
    "print(\"pk-value:\", pk_value)\n",
    "\n",
    "print(\"R2_sqaure:\",R_sqaure)\n",
    "# file = open('uniform1.txt','a')\n",
    "# file.write(f\"test_loss: {test_loss}\\n\")\n",
    "# file.write(f\"R^2: {R_sqaure}\\n\")\n",
    "# file.write(f\"Spearman rank correlation coefficient: {s_corr}\\n\")\n",
    "# file.write(f\"Kendall rank correlation coefficient: {k_corr}\\n\")\n",
    "# # file.write(f\"p_val: {p_val}\")\n",
    "# file.close()\n",
    "# plt.savefig(f'uniform1/output{batch_size}lr{learning_rate}.png',bbox_inches='tight')"
   ]
  },
  {
   "cell_type": "code",
   "execution_count": null,
   "id": "8a78644b",
   "metadata": {},
   "outputs": [],
   "source": [
    "'''\n",
    "grid size 10:\n",
    "lr = 0.001 loss nan\n",
    "lr = 0.0001 r2 -ve\n",
    "\n",
    "grid size 20:\n",
    "    lr = 0.001 \n",
    "        b = 32\n",
    "            Epoch: 10/10 train loss: 0.009364387280656946 val_loss: 0.009326217256486418\n",
    "            Spearman rank correlation coefficient: 0.9020261207173215\n",
    "            ps-value: 0.0\n",
    "            Kendall rank correlation coefficient: 0.7152474594886418\n",
    "            pk-value: 0.0\n",
    "            R2_sqaure: 0.8220069712162869\n",
    "        b = 64\n",
    "            loss nan\n",
    "\n",
    "    lr = 0.0001\n",
    "        b = 32\n",
    "            Epoch: 10/10 train loss: 0.0012989539166665055 val_loss: 0.0012877737830858682\n",
    "            test loss: 0.0012928983246092685\n",
    "            Spearman rank correlation coefficient: 0.9884086770650857\n",
    "            ps-value: 0.0\n",
    "            Kendall rank correlation coefficient: 0.9061329292226153\n",
    "            pk-value: 0.0\n",
    "            R2_sqaure: 0.9756436039721916\n",
    "        b = 64\n",
    "            Epoch: 10/10 train loss: 0.00535023001604713 val_loss: 0.005540662109851834\n",
    "            test loss: 0.005282533953431995\n",
    "            Spearman rank correlation coefficient: 0.9537603058239047\n",
    "            ps-value: 0.0\n",
    "            Kendall rank correlation coefficient: 0.8135506086259134\n",
    "            pk-value: 0.0\n",
    "            R2_sqaure: 0.9004844488103128\n",
    "\n",
    "grid size 30:\n",
    "    lr = 0.001\n",
    "        b = 32 \n",
    "            Epoch: 10/10 train loss: 0.007421011733240443 val_loss: 0.007647522615268824\n",
    "            test loss: 0.007593748790677632\n",
    "            Spearman rank correlation coefficient: 0.9286463773788204\n",
    "            ps-value: 0.0\n",
    "            Kendall rank correlation coefficient: 0.7672511674747914\n",
    "            pk-value: 0.0\n",
    "            R2_sqaure: 0.8569443936154534\n",
    "        b = 64\n",
    "            Epoch: 10/10 train loss: 0.004709202008089048 val_loss: 0.004770334215834737\n",
    "            test loss: 0.004777113955933602\n",
    "            Spearman rank correlation coefficient: 0.9627160208411734\n",
    "            ps-value: 0.0\n",
    "            Kendall rank correlation coefficient: 0.8259406503635928\n",
    "            pk-value: 0.0\n",
    "            R2_sqaure: 0.9100058550738535\n",
    "    lr = 0.0001\n",
    "        b = 32\n",
    "            Epoch: 10/10 train loss: 0.0034041153933503663 val_loss: 0.003451138496398928\n",
    "            test loss: 0.0034617380949202923\n",
    "            Spearman rank correlation coefficient: 0.9735480021480313\n",
    "            ps-value: 0.0\n",
    "            Kendall rank correlation coefficient: 0.8603896785345856\n",
    "            pk-value: 0.0\n",
    "            R2_sqaure: 0.9347856958415925\n",
    "        b = 64\n",
    "            Epoch: 10/10 train loss: 0.006225172642734831 val_loss: 0.006334181176498533\n",
    "            test loss: 0.00624340014066547\n",
    "            Spearman rank correlation coefficient: 0.9454757412811075\n",
    "            ps-value: 0.0\n",
    "            Kendall rank correlation coefficient: 0.7997993059892661\n",
    "            pk-value: 0.0\n",
    "            R2_sqaure: 0.8823830736087371\n",
    "\n",
    "grid size = 25:\n",
    "    lr = 0.0001\n",
    "        b = 32\n",
    "            Epoch: 10/10 train loss: 0.003207822222029789 val_loss: 0.0032191085475496914\n",
    "            test loss: 0.0031988023401936516\n",
    "            Spearman rank correlation coefficient: 0.9726084493398343\n",
    "            ps-value: 0.0\n",
    "            Kendall rank correlation coefficient: 0.8554776280392133\n",
    "            pk-value: 0.0\n",
    "            R2_sqaure: 0.9397390378450957\n",
    "        b = 64\n",
    "            Epoch: 10/10 train loss: 0.004928811951540418 val_loss: 0.004954170580953359\n",
    "            test loss: 0.004925698668230324\n",
    "            Spearman rank correlation coefficient: 0.9555145459850611\n",
    "            ps-value: 0.0\n",
    "            Kendall rank correlation coefficient: 0.8211179797098568\n",
    "            pk-value: 0.0\n",
    "            R2_sqaure: 0.9072067260739989\n",
    "    lr = 0.001\n",
    "        b = 32\n",
    "            Epoch: 10/10 train loss: 0.004411900284467266 val_loss: 0.004458806209266188\n",
    "            test loss: 0.0044010749674634995\n",
    "            Spearman rank correlation coefficient: 0.9614311172108232\n",
    "            ps-value: 0.0\n",
    "            Kendall rank correlation coefficient: 0.8285022438337212\n",
    "            pk-value: 0.0\n",
    "            R2_sqaure: 0.9170899031084779\n",
    "\n",
    "\n",
    "using 2 conv layer and 20 grid size:\n",
    "Adam\n",
    "lr = 0.0001 & b = 32\n",
    "    Epoch: 10/10 train loss: 0.0008866771813336527 val_loss: 0.0008766422377666462\n",
    "    test loss: 0.0008895936429325951\n",
    "    Spearman rank correlation coefficient: 0.9919626884492522\n",
    "    ps-value: 0.0\n",
    "    Kendall rank correlation coefficient: 0.9215736945543331\n",
    "    pk-value: 0.0\n",
    "    R2_sqaure: 0.9832412999712331\n",
    "\n",
    "lr = 0.0001 & b = 64 (same result)\n",
    "\n",
    "RMS prop\n",
    "'''\n",
    " \n"
   ]
  }
 ],
 "metadata": {
  "kernelspec": {
   "display_name": "Python 3 (ipykernel)",
   "language": "python",
   "name": "python3"
  },
  "language_info": {
   "codemirror_mode": {
    "name": "ipython",
    "version": 3
   },
   "file_extension": ".py",
   "mimetype": "text/x-python",
   "name": "python",
   "nbconvert_exporter": "python",
   "pygments_lexer": "ipython3",
   "version": "3.10.9"
  }
 },
 "nbformat": 4,
 "nbformat_minor": 5
}
