{
 "cells": [
  {
   "cell_type": "code",
   "execution_count": 1,
   "id": "3bef3bfc",
   "metadata": {},
   "outputs": [],
   "source": [
    "import pickle\n",
    "import torch\n",
    "import torch.nn as nn\n",
    "from sklearn.model_selection import train_test_split\n",
    "import torch.optim as optim\n",
    "import numpy as np\n",
    "import pandas as pd\n",
    "import matplotlib.pyplot as plt\n",
    "from mpl_toolkits import mplot3d\n",
    "from tqdm import tqdm\n",
    "from torch.utils.data import TensorDataset, DataLoader\n",
    "from sklearn.preprocessing import StandardScaler\n",
    "from sklearn.metrics import r2_score\n",
    "from scipy.stats import pearsonr\n",
    "from scipy.stats import spearmanr\n",
    "from scipy.stats import kendalltau\n",
    "import warnings"
   ]
  },
  {
   "cell_type": "code",
   "execution_count": 2,
   "id": "e7b1446f",
   "metadata": {},
   "outputs": [
    {
     "data": {
      "text/plain": [
       "'cuda'"
      ]
     },
     "execution_count": 2,
     "metadata": {},
     "output_type": "execute_result"
    }
   ],
   "source": [
    "device = 'cuda' if torch.cuda.is_available() else 'cpu'\n",
    "device"
   ]
  },
  {
   "cell_type": "code",
   "execution_count": 233,
   "id": "2fefd4b5",
   "metadata": {},
   "outputs": [],
   "source": [
    "# with open('X_data.pkl','rb') as file:\n",
    "#     x = pickle.load(file)\n",
    "# with open('Y_data.pkl','rb') as file:\n",
    "#     y = pickle.load(file)\n",
    "# with open('zie_data.pkl','rb') as file:\n",
    "#     z = pickle.load(file)"
   ]
  },
  {
   "cell_type": "code",
   "execution_count": 336,
   "id": "2dd2723b",
   "metadata": {},
   "outputs": [],
   "source": [
    "# with open('Xnew_data.pkl','rb') as file:\n",
    "#     x = pickle.load(file)\n",
    "# with open('Ynew_data.pkl','rb') as file:\n",
    "#     y = pickle.load(file)\n",
    "# with open('zienew_data.pkl','rb') as file:\n",
    "#     z = pickle.load(file)"
   ]
  },
  {
   "cell_type": "code",
   "execution_count": 3,
   "id": "7c03ec08",
   "metadata": {},
   "outputs": [],
   "source": [
    "with open('X_uniform.pkl','rb') as file:\n",
    "    x = pickle.load(file)\n",
    "with open('Y_uniform.pkl','rb') as file:\n",
    "    y = pickle.load(file)\n",
    "with open('zie_uniform.pkl','rb') as file:\n",
    "    zie = pickle.load(file)"
   ]
  },
  {
   "cell_type": "code",
   "execution_count": 4,
   "id": "ebee7d8c",
   "metadata": {
    "scrolled": true
   },
   "outputs": [
    {
     "data": {
      "text/plain": [
       "(tensor([[ 1.7103,  1.7103,  1.7103,  ..., -6.8445, -6.8445, -6.8445],\n",
       "         [ 8.5300,  8.5300,  8.5300,  ..., -6.3845, -6.3845, -6.3845],\n",
       "         [-6.0266, -6.0266, -6.0266,  ..., -7.0155, -7.0155, -7.0155],\n",
       "         ...,\n",
       "         [ 6.9653,  6.9653,  6.9653,  ...,  5.1985,  5.1985,  5.1985],\n",
       "         [-8.4326, -8.4326, -8.4326,  ...,  8.8994,  8.8994,  8.8994],\n",
       "         [-3.3060, -3.3060, -3.3060,  ..., -8.7325, -8.7325, -8.7325]]),\n",
       " torch.Size([2500, 40000]))"
      ]
     },
     "execution_count": 4,
     "metadata": {},
     "output_type": "execute_result"
    }
   ],
   "source": [
    "x, x.shape"
   ]
  },
  {
   "cell_type": "code",
   "execution_count": 5,
   "id": "3359a637",
   "metadata": {
    "scrolled": true
   },
   "outputs": [
    {
     "data": {
      "text/plain": [
       "tensor([[ 8.0409,  8.0409,  8.0409,  ..., -8.5875, -8.5875, -8.5875],\n",
       "        [-4.0732, -4.0732, -4.0732,  ...,  9.5276,  9.5276,  9.5276],\n",
       "        [ 4.6791,  4.6791,  4.6791,  ...,  3.8848,  3.8848,  3.8848],\n",
       "        ...,\n",
       "        [-2.8629, -2.8629, -2.8629,  ...,  8.8056,  8.8056,  8.8056],\n",
       "        [ 2.5266,  2.5266,  2.5266,  ...,  1.5282,  1.5282,  1.5282],\n",
       "        [-9.1332, -9.1332, -9.1332,  ..., -8.2617, -8.2617, -8.2617]])"
      ]
     },
     "execution_count": 5,
     "metadata": {},
     "output_type": "execute_result"
    }
   ],
   "source": [
    "y"
   ]
  },
  {
   "cell_type": "code",
   "execution_count": 7,
   "id": "c2a57dbc",
   "metadata": {},
   "outputs": [
    {
     "data": {
      "text/plain": [
       "(40000,)"
      ]
     },
     "execution_count": 7,
     "metadata": {},
     "output_type": "execute_result"
    }
   ],
   "source": [
    "zie.shape"
   ]
  },
  {
   "cell_type": "code",
   "execution_count": 4,
   "id": "d7b80f62",
   "metadata": {
    "scrolled": false
   },
   "outputs": [
    {
     "name": "stdout",
     "output_type": "stream",
     "text": [
      "[[0.12230009]\n",
      " [0.12232882]\n",
      " [0.12240062]\n",
      " ...\n",
      " [0.08608111]\n",
      " [0.08619601]\n",
      " [0.08633962]]\n"
     ]
    }
   ],
   "source": [
    "zie = zie.reshape(-1,1)\n",
    "print(zie)"
   ]
  },
  {
   "cell_type": "code",
   "execution_count": 5,
   "id": "a86acdd5",
   "metadata": {},
   "outputs": [
    {
     "data": {
      "text/plain": [
       "Text(0, 0.5, 'Frequency')"
      ]
     },
     "execution_count": 5,
     "metadata": {},
     "output_type": "execute_result"
    },
    {
     "data": {
      "image/png": "[encoded data removed]",
      "text/plain": [
       "<Figure size 640x480 with 1 Axes>"
      ]
     },
     "metadata": {},
     "output_type": "display_data"
    }
   ],
   "source": [
    "plt.hist(zie)\n",
    "plt.title(\"Distribution of ξ Values\")\n",
    "plt.xlabel('ξ values')\n",
    "plt.ylabel('Frequency')"
   ]
  },
  {
   "cell_type": "code",
   "execution_count": 6,
   "id": "1c5695ac",
   "metadata": {},
   "outputs": [],
   "source": [
    "x = x.numpy()\n",
    "y = y.numpy()"
   ]
  },
  {
   "cell_type": "code",
   "execution_count": 10,
   "id": "aafadc93",
   "metadata": {},
   "outputs": [],
   "source": [
    "# inp = []\n",
    "# listi = []\n",
    "# for i in range(50000):\n",
    "#     if (i%250>=50 and i%250<=150):\n",
    "#         temp = np.concatenate((x[:,i],y[:,i]))\n",
    "#         inp.append(temp)\n",
    "#         listi.append(i)"
   ]
  },
  {
   "cell_type": "code",
   "execution_count": 11,
   "id": "aa59f7fd",
   "metadata": {},
   "outputs": [
    {
     "data": {
      "text/plain": [
       "20200"
      ]
     },
     "execution_count": 11,
     "metadata": {},
     "output_type": "execute_result"
    }
   ],
   "source": [
    "# len(listi)"
   ]
  },
  {
   "cell_type": "code",
   "execution_count": 12,
   "id": "26457176",
   "metadata": {},
   "outputs": [],
   "source": [
    "# z = []\n",
    "# for i in range(20200):\n",
    "#     z.append(zei[listi[i]])"
   ]
  },
  {
   "cell_type": "code",
   "execution_count": 7,
   "id": "30a6f683",
   "metadata": {},
   "outputs": [],
   "source": [
    "inp = []\n",
    "for i in range(40000):\n",
    "    temp = np.concatenate((x[:,i],y[:,i]))\n",
    "    inp.append(temp)"
   ]
  },
  {
   "cell_type": "code",
   "execution_count": 8,
   "id": "dbbf3498",
   "metadata": {},
   "outputs": [],
   "source": [
    "inp = np.array(inp)"
   ]
  },
  {
   "cell_type": "code",
   "execution_count": 9,
   "id": "54914217",
   "metadata": {},
   "outputs": [
    {
     "data": {
      "text/plain": [
       "(40000, 5000)"
      ]
     },
     "execution_count": 9,
     "metadata": {},
     "output_type": "execute_result"
    }
   ],
   "source": [
    "inp.shape"
   ]
  },
  {
   "cell_type": "code",
   "execution_count": 10,
   "id": "015e31d9",
   "metadata": {
    "scrolled": true
   },
   "outputs": [
    {
     "data": {
      "text/plain": [
       "(array([[ 1.7102509,  8.530041 , -6.026571 , ..., -2.8629255,  2.5265617,\n",
       "         -9.133181 ],\n",
       "        [ 1.7102509,  8.530041 , -6.026571 , ..., -2.8629255,  2.5265617,\n",
       "         -9.133181 ],\n",
       "        [ 1.7102509,  8.530041 , -6.026571 , ..., -2.8629255,  2.5265617,\n",
       "         -9.133181 ],\n",
       "        [ 1.7102509,  8.530041 , -6.026571 , ..., -2.8629255,  2.5265617,\n",
       "         -9.133181 ]], dtype=float32),\n",
       " array([ 1.7102509,  8.530041 , -6.026571 , ..., -2.8629255,  2.5265617,\n",
       "        -9.133181 ], dtype=float32),\n",
       " array([0., 0., 0., ..., 0., 0., 0.], dtype=float32),\n",
       " array([ 1.7102509,  8.530041 , -6.026571 , ..., -2.8629255,  2.5265617,\n",
       "        -9.133181 ], dtype=float32),\n",
       " array([ 1.7102509,  8.530041 , -6.026571 , ..., -2.8629255,  2.5265617,\n",
       "        -9.133181 ], dtype=float32))"
      ]
     },
     "execution_count": 10,
     "metadata": {},
     "output_type": "execute_result"
    }
   ],
   "source": [
    "inp[:4], inp[:4].mean(axis=0), inp[:4].std(axis=0), inp[:4].max(axis=0), inp[:4].min(axis=0)"
   ]
  },
  {
   "cell_type": "code",
   "execution_count": 11,
   "id": "c1cecbf7",
   "metadata": {},
   "outputs": [
    {
     "data": {
      "text/plain": [
       "(array([[ 0.30849233,  1.396393  , -1.0658957 , ..., -0.56645036,\n",
       "          0.56772953, -1.7841631 ],\n",
       "        [ 0.30849233,  1.396393  , -1.0658957 , ..., -0.56645036,\n",
       "          0.56772953, -1.7841631 ],\n",
       "        [ 0.30849233,  1.396393  , -1.0658957 , ..., -0.56645036,\n",
       "          0.56772953, -1.7841631 ],\n",
       "        [ 0.30849233,  1.396393  , -1.0658957 , ..., -0.56645036,\n",
       "          0.56772953, -1.7841631 ]], dtype=float32),\n",
       " array([ 0.30849233,  1.396393  , -1.0658957 , ..., -0.56645036,\n",
       "         0.56772953, -1.7841631 ], dtype=float32),\n",
       " array([0., 0., 0., ..., 0., 0., 0.], dtype=float32),\n",
       " array([ 0.30849233,  1.396393  , -1.0658957 , ..., -0.56645036,\n",
       "         0.56772953, -1.7841631 ], dtype=float32),\n",
       " array([ 0.30849233,  1.396393  , -1.0658957 , ..., -0.56645036,\n",
       "         0.56772953, -1.7841631 ], dtype=float32))"
      ]
     },
     "execution_count": 11,
     "metadata": {},
     "output_type": "execute_result"
    }
   ],
   "source": [
    "scaler = StandardScaler()\n",
    "inp_norm = scaler.fit_transform(inp)\n",
    "inp_norm[:4], inp_norm[:4].mean(axis=0), inp_norm[:4].std(axis=0), inp_norm[:4].max(axis=0), inp_norm[:4].min(axis=0)"
   ]
  },
  {
   "cell_type": "code",
   "execution_count": 12,
   "id": "18d7e0ef",
   "metadata": {},
   "outputs": [],
   "source": [
    "inp_train, inp_val, z_train, z_val = train_test_split(inp_norm, zie, test_size=0.2, random_state=69)\n",
    "inp_train, inp_test, z_train, z_test = train_test_split(inp_train, z_train, test_size=0.2, random_state=69)"
   ]
  },
  {
   "cell_type": "code",
   "execution_count": 13,
   "id": "85cc998f",
   "metadata": {},
   "outputs": [
    {
     "data": {
      "text/plain": [
       "((25600, 5000), (8000, 5000), (6400, 5000))"
      ]
     },
     "execution_count": 13,
     "metadata": {},
     "output_type": "execute_result"
    }
   ],
   "source": [
    "inp_train.shape, inp_val.shape, inp_test.shape"
   ]
  },
  {
   "cell_type": "code",
   "execution_count": 14,
   "id": "67c7665f",
   "metadata": {},
   "outputs": [
    {
     "data": {
      "text/plain": [
       "((25600, 1), (8000, 1), (6400, 1))"
      ]
     },
     "execution_count": 14,
     "metadata": {},
     "output_type": "execute_result"
    }
   ],
   "source": [
    "z_train.shape, z_val.shape, z_test.shape"
   ]
  },
  {
   "cell_type": "code",
   "execution_count": 15,
   "id": "d3cc3d31",
   "metadata": {},
   "outputs": [],
   "source": [
    "learning_rate = 0.0001\n",
    "batch_size = 32"
   ]
  },
  {
   "cell_type": "code",
   "execution_count": 16,
   "id": "54711566",
   "metadata": {},
   "outputs": [],
   "source": [
    "def getDataLoader(x,y):\n",
    "    tensor_inp = torch.Tensor(x)\n",
    "    tensor_z = torch.Tensor(y)\n",
    "    dataset = TensorDataset(tensor_inp,tensor_z)\n",
    "    return DataLoader(dataset, batch_size)"
   ]
  },
  {
   "cell_type": "code",
   "execution_count": 17,
   "id": "1debec86",
   "metadata": {},
   "outputs": [],
   "source": [
    "def train(\n",
    "    model,\n",
    "    dataset,\n",
    "    optimizer,\n",
    "    loss,\n",
    "    length_of_set,\n",
    "    is_dev=False\n",
    "):\n",
    "    total_loss = 0\n",
    "    y_pred, y_actual = [], []\n",
    "    model.train()\n",
    "    for x,y in tqdm(dataset):\n",
    "        \n",
    "        if not is_dev: optimizer.zero_grad()\n",
    "\n",
    "        x = x.to(device)\n",
    "        y = y.to(device)\n",
    "        pred = model(x)\n",
    "        curr_loss = loss(pred, y)\n",
    "#         loss_batch = 0\n",
    "#         loss_batch += curr_loss.item()\n",
    "#         loss_batch = loss_batch*len(y)\n",
    "        total_loss += curr_loss.item()*len(y)/(length_of_set)\n",
    "\n",
    "        if not is_dev:\n",
    "            curr_loss.backward()\n",
    "            optimizer.step()\n",
    "\n",
    "#         y_pred += pred\n",
    "#         y_actual += y\n",
    "        \n",
    "        y_pred += pred.flatten().tolist()\n",
    "        y_actual += y.flatten().tolist()\n",
    "        \n",
    "    return total_loss"
   ]
  },
  {
   "cell_type": "code",
   "execution_count": 18,
   "id": "a1f262e3",
   "metadata": {},
   "outputs": [],
   "source": [
    "train_dataloader = getDataLoader(inp_train, z_train)\n",
    "val_dataloader = getDataLoader(inp_val, z_val)\n",
    "test_dataloader = getDataLoader(inp_test, z_test)"
   ]
  },
  {
   "cell_type": "code",
   "execution_count": 19,
   "id": "f0f49c7d",
   "metadata": {},
   "outputs": [],
   "source": [
    "class zievalue(nn.Module):\n",
    "    def __init__(self):\n",
    "        super().__init__()\n",
    "        self.hidden1 = nn.Linear(5000, 4000)\n",
    "        self.relu1 = nn.ReLU()\n",
    "#         self.dropout1 = nn.Dropout(p=0.3)\n",
    "        self.hidden2 = nn.Linear(4000, 3000)\n",
    "        self.relu2 = nn.ReLU()\n",
    "#         self.dropout2 = nn.Dropout(p=0.3)\n",
    "        self.hidden3 = nn.Linear(3000, 2000)\n",
    "        self.relu3 = nn.ReLU()\n",
    "#         self.dropout3 = nn.Dropout(p=0.3)\n",
    "        self.hidden4 = nn.Linear(2000, 1000)\n",
    "        self.relu4 = nn.ReLU()\n",
    "#         self.dropout4 = nn.Dropout(p=0.3)\n",
    "        self.output = nn.Linear(1000, 1)\n",
    "#         self.tanh = nn.Tanh()\n",
    "        self.sigmoid = nn.Sigmoid()\n",
    " \n",
    "    def forward(self, x):\n",
    "        x = self.hidden1(x)\n",
    "        x = self.relu1(x)\n",
    "#         x = self.dropout1(x)\n",
    "        x = self.hidden2(x)\n",
    "        x = self.relu2(x)\n",
    "#         x = self.dropout2(x)\n",
    "        x = self.hidden3(x)\n",
    "        x = self.relu3(x)\n",
    "#         x = self.dropout3(x)\n",
    "        x = self.hidden4(x)\n",
    "        x = self.relu4(x)\n",
    "#         x = self.dropout4(x)\n",
    "        x = self.output(x)\n",
    "#         x = self.tanh(x)\n",
    "        x = self.sigmoid(x)\n",
    "        return x"
   ]
  },
  {
   "cell_type": "code",
   "execution_count": 161,
   "id": "4c99b1c3",
   "metadata": {},
   "outputs": [],
   "source": [
    "# class zievalue(nn.Module):\n",
    "#     def __init__(self):\n",
    "#         super().__init__()\n",
    "#         self.h1 = nn.Linear(5000, 2500)\n",
    "#         self.a1 = nn.ReLU()\n",
    "#         self.h2 = nn.Linear(2500, 1500)\n",
    "#         self.a2 = nn.ReLU()\n",
    "# #         self.a2 = nn.Tanh()\n",
    "#         self.h3 = nn.Linear(1500, 1)\n",
    "#         self.sigmoid = nn.Sigmoid()\n",
    " \n",
    "#     def forward(self, x):\n",
    "#         x = self.h1(x)\n",
    "#         x = self.a1(x)\n",
    "#         x = self.h2(x)\n",
    "#         x = self.a2(x)\n",
    "#         x = self.h3(x)\n",
    "#         x = self.sigmoid(x)\n",
    "#         return x"
   ]
  },
  {
   "cell_type": "code",
   "execution_count": 20,
   "id": "cf718fd6",
   "metadata": {},
   "outputs": [
    {
     "name": "stdout",
     "output_type": "stream",
     "text": [
      "zievalue(\n",
      "  (hidden1): Linear(in_features=5000, out_features=4000, bias=True)\n",
      "  (relu1): ReLU()\n",
      "  (hidden2): Linear(in_features=4000, out_features=3000, bias=True)\n",
      "  (relu2): ReLU()\n",
      "  (hidden3): Linear(in_features=3000, out_features=2000, bias=True)\n",
      "  (relu3): ReLU()\n",
      "  (hidden4): Linear(in_features=2000, out_features=1000, bias=True)\n",
      "  (relu4): ReLU()\n",
      "  (output): Linear(in_features=1000, out_features=1, bias=True)\n",
      "  (sigmoid): Sigmoid()\n",
      ")\n"
     ]
    }
   ],
   "source": [
    "model = zievalue().to(device)\n",
    "print(model)\n",
    "loss = nn.BCEWithLogitsLoss().to(device)\n",
    "optimizer = optim.RMSprop(model.parameters(), lr=learning_rate)\n",
    "#optim.SGD(model.parameters(), lr=learning_rate)\n",
    "#optim.Adam(model.parameters(), lr=learning_rate)\n",
    "#optim.RMSprop(model.parameters(), lr=learning_rate)\n",
    "#optim.Adagrad(model.parameters(), lr=learning_rate)\n",
    "#optim.Adadelta(model.parameters(), lr=learning_rate)\n",
    "scheduler = optim.lr_scheduler.LambdaLR(optimizer, lambda epoch: 0.5 ** epoch)\n",
    "mse_loss = nn.MSELoss().to(device)"
   ]
  },
  {
   "cell_type": "code",
   "execution_count": 21,
   "id": "578bffb3",
   "metadata": {
    "scrolled": true
   },
   "outputs": [
    {
     "name": "stderr",
     "output_type": "stream",
     "text": [
      "100%|██████████████████████████████████████████████████████████████████████████████████████████████████████████████████████| 800/800 [03:20<00:00,  3.98it/s]\n",
      "100%|██████████████████████████████████████████████████████████████████████████████████████████████████████████████████████| 250/250 [00:10<00:00, 23.18it/s]\n"
     ]
    },
    {
     "name": "stdout",
     "output_type": "stream",
     "text": [
      "Epoch: 1/10 train loss: 0.03836719787213949 val_loss: 0.03761432864516972\n"
     ]
    },
    {
     "name": "stderr",
     "output_type": "stream",
     "text": [
      "100%|██████████████████████████████████████████████████████████████████████████████████████████████████████████████████████| 800/800 [03:13<00:00,  4.13it/s]\n",
      "100%|██████████████████████████████████████████████████████████████████████████████████████████████████████████████████████| 250/250 [00:12<00:00, 20.05it/s]\n"
     ]
    },
    {
     "name": "stdout",
     "output_type": "stream",
     "text": [
      "Epoch: 2/10 train loss: 0.036213557678274805 val_loss: 0.03680356723815201\n"
     ]
    },
    {
     "name": "stderr",
     "output_type": "stream",
     "text": [
      "100%|██████████████████████████████████████████████████████████████████████████████████████████████████████████████████████| 800/800 [01:24<00:00,  9.42it/s]\n",
      "100%|█████████████████████████████████████████████████████████████████████████████████████████████████████████████████████| 250/250 [00:00<00:00, 501.55it/s]\n"
     ]
    },
    {
     "name": "stdout",
     "output_type": "stream",
     "text": [
      "Epoch: 3/10 train loss: 0.03586081353481859 val_loss: 0.03648399587720632\n"
     ]
    },
    {
     "name": "stderr",
     "output_type": "stream",
     "text": [
      "100%|██████████████████████████████████████████████████████████████████████████████████████████████████████████████████████| 800/800 [00:13<00:00, 60.08it/s]\n",
      "100%|█████████████████████████████████████████████████████████████████████████████████████████████████████████████████████| 250/250 [00:00<00:00, 484.19it/s]\n"
     ]
    },
    {
     "name": "stdout",
     "output_type": "stream",
     "text": [
      "Epoch: 4/10 train loss: 0.035682991013163703 val_loss: 0.03639486472308634\n"
     ]
    },
    {
     "name": "stderr",
     "output_type": "stream",
     "text": [
      "100%|██████████████████████████████████████████████████████████████████████████████████████████████████████████████████████| 800/800 [00:11<00:00, 67.13it/s]\n",
      "100%|█████████████████████████████████████████████████████████████████████████████████████████████████████████████████████| 250/250 [00:00<00:00, 512.97it/s]\n"
     ]
    },
    {
     "name": "stdout",
     "output_type": "stream",
     "text": [
      "Epoch: 5/10 train loss: 0.03558323625940828 val_loss: 0.03636488484591248\n"
     ]
    },
    {
     "name": "stderr",
     "output_type": "stream",
     "text": [
      "100%|██████████████████████████████████████████████████████████████████████████████████████████████████████████████████████| 800/800 [00:11<00:00, 67.14it/s]\n",
      "100%|█████████████████████████████████████████████████████████████████████████████████████████████████████████████████████| 250/250 [00:00<00:00, 501.00it/s]\n"
     ]
    },
    {
     "name": "stdout",
     "output_type": "stream",
     "text": [
      "Epoch: 6/10 train loss: 0.035524757443927274 val_loss: 0.03635652524232864\n"
     ]
    },
    {
     "name": "stderr",
     "output_type": "stream",
     "text": [
      "100%|██████████████████████████████████████████████████████████████████████████████████████████████████████████████████████| 800/800 [00:11<00:00, 67.08it/s]\n",
      "100%|█████████████████████████████████████████████████████████████████████████████████████████████████████████████████████| 250/250 [00:00<00:00, 493.43it/s]\n"
     ]
    },
    {
     "name": "stdout",
     "output_type": "stream",
     "text": [
      "Epoch: 7/10 train loss: 0.0354921926208771 val_loss: 0.03635675646364693\n"
     ]
    },
    {
     "name": "stderr",
     "output_type": "stream",
     "text": [
      "100%|██████████████████████████████████████████████████████████████████████████████████████████████████████████████████████| 800/800 [00:12<00:00, 65.89it/s]\n",
      "100%|█████████████████████████████████████████████████████████████████████████████████████████████████████████████████████| 250/250 [00:00<00:00, 514.96it/s]\n"
     ]
    },
    {
     "name": "stdout",
     "output_type": "stream",
     "text": [
      "Epoch: 8/10 train loss: 0.03547482835710982 val_loss: 0.036357665970921535\n"
     ]
    },
    {
     "name": "stderr",
     "output_type": "stream",
     "text": [
      "100%|██████████████████████████████████████████████████████████████████████████████████████████████████████████████████████| 800/800 [00:11<00:00, 67.37it/s]\n",
      "100%|█████████████████████████████████████████████████████████████████████████████████████████████████████████████████████| 250/250 [00:00<00:00, 501.87it/s]\n"
     ]
    },
    {
     "name": "stdout",
     "output_type": "stream",
     "text": [
      "Epoch: 9/10 train loss: 0.03546588634373621 val_loss: 0.03635806822031738\n"
     ]
    },
    {
     "name": "stderr",
     "output_type": "stream",
     "text": [
      "100%|██████████████████████████████████████████████████████████████████████████████████████████████████████████████████████| 800/800 [00:11<00:00, 66.97it/s]\n",
      "100%|█████████████████████████████████████████████████████████████████████████████████████████████████████████████████████| 250/250 [00:00<00:00, 503.62it/s]"
     ]
    },
    {
     "name": "stdout",
     "output_type": "stream",
     "text": [
      "Epoch: 10/10 train loss: 0.035461355269653716 val_loss: 0.036358217597007754\n"
     ]
    },
    {
     "name": "stderr",
     "output_type": "stream",
     "text": [
      "\n"
     ]
    }
   ],
   "source": [
    "# file = open(\"uniform1.txt\", \"a\")\n",
    "# file.write('\\n')\n",
    "num_epochs = 10\n",
    "losses = []\n",
    "# file.write(f\"Batch Size: {batch_size}, Learning Rate: {learning_rate} \\n\")\n",
    "for epoch in range(num_epochs):\n",
    "    train_loss = train(model, train_dataloader, optimizer, mse_loss, inp_train.shape[0])\n",
    "    val_loss = train(model, val_dataloader, optimizer, mse_loss, inp_val.shape[0], True)\n",
    "    print(f'Epoch: {epoch+1}/{num_epochs} train loss: {train_loss} val_loss: {val_loss}')\n",
    "#     file.write(f'Epoch: {epoch+1}/{num_epochs} train loss: {train_loss} val_loss: {val_loss} \\n')\n",
    "    losses.append(val_loss)\n",
    "    scheduler.step()\n",
    "# file.close()"
   ]
  },
  {
   "cell_type": "code",
   "execution_count": 22,
   "id": "c556bebb",
   "metadata": {},
   "outputs": [
    {
     "data": {
      "text/plain": [
       "Text(0, 0.5, 'MSE Loss')"
      ]
     },
     "execution_count": 22,
     "metadata": {},
     "output_type": "execute_result"
    },
    {
     "data": {
      "image/png": "[encoded data removed]",
      "text/plain": [
       "<Figure size 640x480 with 1 Axes>"
      ]
     },
     "metadata": {},
     "output_type": "display_data"
    }
   ],
   "source": [
    "plt.plot(losses, marker='o')\n",
    "plt.title(f\"Validation set MSE Loss, Batch: {batch_size}, lr: {learning_rate}\")\n",
    "plt.xlabel('Epochs')\n",
    "plt.ylabel('MSE Loss')\n",
    "# plt.savefig(f'uniform1/loss{batch_size}lr{learning_rate}.png',bbox_inches='tight')"
   ]
  },
  {
   "cell_type": "code",
   "execution_count": 23,
   "id": "f0248214",
   "metadata": {
    "scrolled": true
   },
   "outputs": [
    {
     "name": "stderr",
     "output_type": "stream",
     "text": [
      "100%|█████████████████████████████████████████████████████████████████████████████████████████████████████████████████████| 200/200 [00:00<00:00, 496.56it/s]"
     ]
    },
    {
     "name": "stdout",
     "output_type": "stream",
     "text": [
      "0.03538804453797638\n"
     ]
    },
    {
     "name": "stderr",
     "output_type": "stream",
     "text": [
      "\n"
     ]
    }
   ],
   "source": [
    "test_loss = train(model, test_dataloader, optimizer, mse_loss, inp_test.shape[0], True)\n",
    "print(test_loss)\n",
    "# file = open('uniform1.txt','a')\n",
    "# file.write(f\"test_loss: {test_loss}\")\n",
    "# file.close()"
   ]
  },
  {
   "cell_type": "code",
   "execution_count": 24,
   "id": "1977da2e",
   "metadata": {},
   "outputs": [
    {
     "name": "stdout",
     "output_type": "stream",
     "text": [
      "tensor([0.5171], device='cuda:0', grad_fn=<SelectBackward0>) tensor([0.7603])\n",
      "tensor([0.4292], device='cuda:0', grad_fn=<SelectBackward0>) tensor([0.6802])\n",
      "tensor([0.0941], device='cuda:0', grad_fn=<SelectBackward0>) tensor([0.0074])\n",
      "tensor([0.2434], device='cuda:0', grad_fn=<SelectBackward0>) tensor([0.0178])\n",
      "tensor([0.4159], device='cuda:0', grad_fn=<SelectBackward0>) tensor([0.6747])\n",
      "tensor([0.4993], device='cuda:0', grad_fn=<SelectBackward0>) tensor([0.5848])\n",
      "tensor([0.2325], device='cuda:0', grad_fn=<SelectBackward0>) tensor([0.1320])\n",
      "tensor([0.4672], device='cuda:0', grad_fn=<SelectBackward0>) tensor([0.3415])\n",
      "tensor([0.3321], device='cuda:0', grad_fn=<SelectBackward0>) tensor([0.3332])\n",
      "tensor([0.5442], device='cuda:0', grad_fn=<SelectBackward0>) tensor([0.3157])\n",
      "tensor([0.3321], device='cuda:0', grad_fn=<SelectBackward0>) tensor([0.1054])\n",
      "tensor([0.1249], device='cuda:0', grad_fn=<SelectBackward0>) tensor([0.0851])\n",
      "tensor([0.2386], device='cuda:0', grad_fn=<SelectBackward0>) tensor([0.0304])\n",
      "tensor([0.2659], device='cuda:0', grad_fn=<SelectBackward0>) tensor([0.3642])\n",
      "tensor([0.2513], device='cuda:0', grad_fn=<SelectBackward0>) tensor([0.1298])\n",
      "tensor([0.4022], device='cuda:0', grad_fn=<SelectBackward0>) tensor([0.3058])\n",
      "tensor([0.3947], device='cuda:0', grad_fn=<SelectBackward0>) tensor([0.2262])\n",
      "tensor([0.2434], device='cuda:0', grad_fn=<SelectBackward0>) tensor([0.3606])\n",
      "tensor([0.4050], device='cuda:0', grad_fn=<SelectBackward0>) tensor([0.0158])\n",
      "tensor([0.4063], device='cuda:0', grad_fn=<SelectBackward0>) tensor([0.0828])\n",
      "tensor([0.5522], device='cuda:0', grad_fn=<SelectBackward0>) tensor([0.5863])\n",
      "tensor([0.5443], device='cuda:0', grad_fn=<SelectBackward0>) tensor([0.7902])\n",
      "tensor([0.4005], device='cuda:0', grad_fn=<SelectBackward0>) tensor([0.0705])\n",
      "tensor([0.4810], device='cuda:0', grad_fn=<SelectBackward0>) tensor([0.5469])\n",
      "tensor([0.3270], device='cuda:0', grad_fn=<SelectBackward0>) tensor([0.1229])\n",
      "tensor([0.4064], device='cuda:0', grad_fn=<SelectBackward0>) tensor([0.4025])\n",
      "tensor([0.5442], device='cuda:0', grad_fn=<SelectBackward0>) tensor([0.5439])\n",
      "tensor([0.5150], device='cuda:0', grad_fn=<SelectBackward0>) tensor([0.2017])\n",
      "tensor([0.0991], device='cuda:0', grad_fn=<SelectBackward0>) tensor([0.0959])\n",
      "tensor([0.3955], device='cuda:0', grad_fn=<SelectBackward0>) tensor([0.2966])\n",
      "tensor([0.2554], device='cuda:0', grad_fn=<SelectBackward0>) tensor([0.3555])\n",
      "tensor([0.2454], device='cuda:0', grad_fn=<SelectBackward0>) tensor([0.3295])\n"
     ]
    }
   ],
   "source": [
    "for inpu, zie in test_dataloader:\n",
    "    outputs = model(inpu.to(device))\n",
    "    for i in range(32):\n",
    "        print(outputs[i],zie[i])\n",
    "    break"
   ]
  },
  {
   "cell_type": "code",
   "execution_count": 25,
   "id": "c11e4cc2",
   "metadata": {},
   "outputs": [],
   "source": [
    "out = []\n",
    "for inpu, zie in test_dataloader:\n",
    "    outputs = model(inpu.to(device))\n",
    "    outputs = outputs.cpu().detach()\n",
    "    outputs = outputs.numpy()\n",
    "    out.extend(outputs)"
   ]
  },
  {
   "cell_type": "code",
   "execution_count": 47,
   "id": "1977c0a3",
   "metadata": {},
   "outputs": [],
   "source": [
    "out = np.array(out)"
   ]
  },
  {
   "cell_type": "code",
   "execution_count": 48,
   "id": "dd49cb74",
   "metadata": {},
   "outputs": [
    {
     "data": {
      "text/plain": [
       "(3232, 1)"
      ]
     },
     "execution_count": 48,
     "metadata": {},
     "output_type": "execute_result"
    }
   ],
   "source": [
    "out.shape"
   ]
  },
  {
   "cell_type": "code",
   "execution_count": 191,
   "id": "32b5eefe",
   "metadata": {},
   "outputs": [
    {
     "data": {
      "text/plain": [
       "numpy.ndarray"
      ]
     },
     "execution_count": 191,
     "metadata": {},
     "output_type": "execute_result"
    }
   ],
   "source": [
    "type(z_test)"
   ]
  },
  {
   "cell_type": "code",
   "execution_count": 26,
   "id": "0dbac00f",
   "metadata": {},
   "outputs": [
    {
     "name": "stdout",
     "output_type": "stream",
     "text": [
      "Spearman rank correlation coefficient: 0.5529929290348412\n",
      "ps-value: 0.0\n",
      "Kendall rank correlation coefficient: 0.3969842070459171\n",
      "pk-value: 0.0\n",
      "R2_sqaure: 0.3333387422486853\n"
     ]
    },
    {
     "data": {
      "image/png": "[encoded data removed]",
      "text/plain": [
       "<Figure size 640x480 with 1 Axes>"
      ]
     },
     "metadata": {},
     "output_type": "display_data"
    }
   ],
   "source": [
    "plt.scatter(z_test,out)\n",
    "plt.title(f\"Actual vs Predicted, Batch: {batch_size}, lr: {learning_rate}\")\n",
    "plt.xlabel('Actual')\n",
    "plt.ylabel('Predicted')\n",
    "\n",
    "p1 = max(max(out), max(z_test))\n",
    "p2 = min(min(out), min(z_test))\n",
    "plt.plot([p1, p2], [p1, p2], 'r-')\n",
    "plt.ylim((0.2,0.8))\n",
    "R_sqaure = r2_score(z_test,out)\n",
    "# with warnings.catch_warnings():\n",
    "#     warnings.filterwarnings(\"ignore\", message=\".*Nearly constant input.*\")\n",
    "#     p_corr, p_val = pearsonr(z_test, out)\n",
    "# print(p_corr)\n",
    "# print(p_val)\n",
    "\n",
    "s_corr, ps_value = spearmanr(z_test, out)\n",
    "\n",
    "print(\"Spearman rank correlation coefficient:\", s_corr)\n",
    "print(\"ps-value:\", ps_value)\n",
    "\n",
    "k_corr, pk_value = kendalltau(z_test, out)\n",
    "\n",
    "print(\"Kendall rank correlation coefficient:\", k_corr)\n",
    "print(\"pk-value:\", pk_value)\n",
    "\n",
    "print(\"R2_sqaure:\",R_sqaure)\n",
    "# file = open('uniform1.txt','a')\n",
    "# file.write(f\"test_loss: {test_loss}\\n\")\n",
    "# file.write(f\"R^2: {R_sqaure}\\n\")\n",
    "# file.write(f\"Spearman rank correlation coefficient: {s_corr}\\n\")\n",
    "# file.write(f\"Kendall rank correlation coefficient: {k_corr}\\n\")\n",
    "# # file.write(f\"p_val: {p_val}\")\n",
    "# file.close()\n",
    "# plt.savefig(f'uniform1/output{batch_size}lr{learning_rate}.png',bbox_inches='tight')"
   ]
  },
  {
   "cell_type": "code",
   "execution_count": null,
   "id": "ca646b55",
   "metadata": {},
   "outputs": [],
   "source": []
  },
  {
   "cell_type": "code",
   "execution_count": null,
   "id": "c99163dc",
   "metadata": {},
   "outputs": [],
   "source": []
  }
 ],
 "metadata": {
  "kernelspec": {
   "display_name": "Python 3 (ipykernel)",
   "language": "python",
   "name": "python3"
  },
  "language_info": {
   "codemirror_mode": {
    "name": "ipython",
    "version": 3
   },
   "file_extension": ".py",
   "mimetype": "text/x-python",
   "name": "python",
   "nbconvert_exporter": "python",
   "pygments_lexer": "ipython3",
   "version": "3.10.9"
  }
 },
 "nbformat": 4,
 "nbformat_minor": 5
}
